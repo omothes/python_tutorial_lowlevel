{
 "cells": [
  {
   "cell_type": "markdown",
   "metadata": {},
   "source": [
    "# Python Crash Kurs 1 (Gruppe 2)"
   ]
  },
  {
   "cell_type": "markdown",
   "metadata": {},
   "source": [
    "### Variablen\n",
    "Variablen können Sie frei benennen. Allerdings gibt es ein paar Ausnahmen, auf die wir nicht weiter eingehen wollen. Versuchen Sie bei der Wahl des Bezeichners der Variable nur Kleinbuchstaben von **a - z**, Zahlen von **0 - 9** und den Unterstrich **_** zu nutzen. Versuchen Sie dabei die Variable mit einem Kleinbuchstaben zu beginnen.<br>\n",
    "<br>\n",
    "Variablen müssen nicht deklariert werden. Das heißt, man muss der Variable nicht sagen von welchem Datentyp sie ist. Daher müssen Variablen nur definiert werden.<br>\n",
    "<br>\n",
    "Datentypen die wir in unserem Crash-Kurs verwenden sind: Ganzzahlen (Integer), Gleitkommazahlen (Float), Zeichenketten (String) und Listen (List,Array). <br>\n",
    "<br>\n",
    "Eine Variablen-Definition / Zuweisung sieht wie folgt aus:"
   ]
  },
  {
   "cell_type": "code",
   "execution_count": null,
   "metadata": {},
   "outputs": [],
   "source": [
    "ganz_zahl = 7\n",
    "gleitkommazahl = 3.1415\n",
    "string = 'Hallo Welt'\n",
    "liste = ['H','A','L','L','O']\n",
    "liste2 = liste \n",
    "# Ausgaben können mit der Print FUnktion gemacht werden\n",
    "\n",
    "print(string)\n",
    "\n",
    "# Eine Variable kann auch mit einem neuen Wert überschrieben werden\n",
    "\n",
    "string = 'Hallo Welt ist jetzt überschrieben worden.'\n",
    "print(string)"
   ]
  },
  {
   "cell_type": "markdown",
   "metadata": {},
   "source": [
    "### Syntax\n",
    "Bei Python ist ein Leerzeichen (Whitespace) ein essentieller Bestandteil der Syntax. Vorallem am Anfang der Zeile ist die Einrückung durch Whitespaces zu beachten.<br>\n",
    "Einzelne Anweisungen werden nicht durch einen Zeilenumbruch getrennt.<br>\n",
    "Um Blöcke zu strukturieren, verwendet Python Einrückungen. Ein Block wird normalerweise durch einen : am Ende der vorherigen Zeile eingeleitet:"
   ]
  },
  {
   "cell_type": "code",
   "execution_count": null,
   "metadata": {},
   "outputs": [],
   "source": [
    "text1 = 'Hallo'\n",
    "text2 = 'Welt2'\n",
    "\n",
    "if text1 == 'Hallo' and text2 == 'Welt': # wir leiten einen Block ein\n",
    "    # hier fängt ein Block an\n",
    "    print ('text1 lautet: ', text1)\n",
    "    print ('text2 lautet: ', text2)\n",
    "    # hier endet ein Block\n",
    "else:\n",
    "    # hier fängt ein Block\n",
    "    print ('Fehler!')\n",
    "    # hier hört der  Block auf\n",
    "\n",
    "print('Dieser Text erscheint immer, da er nicht eingerückt wurde und somit zu keinem der obigen Blöcke gehört.')"
   ]
  },
  {
   "cell_type": "markdown",
   "metadata": {},
   "source": [
    "### Anweisungen und Zuweisungen\n",
    "**Anweisungen** können beliebige gültige Ausdrücke sein. <br>\n",
    "Wichtig sind dabei vor allem **Zuweisungen**. Diese nutzt man um einer Variablen einen Wert zuzuweisen. <br> \n",
    "Eine Besonderheit von Python ist, das Variablen vor der Verwendung nicht deklariert werden müssen.<br>\n",
    "<br>\n",
    "**Deklaration** einer Variable bedeutet, dass man dem Interpreter oder Compiler die Variable bekannt macht und dessen Datentyp eindeutig ist. Dies ist in Python **nicht** nötig.<br>\n",
    "**Definition** einer Variable bedeuetet, dass dieser ein bestimmter Wert zugeordnet wird."
   ]
  },
  {
   "cell_type": "code",
   "execution_count": null,
   "metadata": {},
   "outputs": [],
   "source": [
    "text1 = 'Hallo'\n",
    "print (text1)\n",
    "# Variablen können auch überschrieben werden (auch mit einem anderen Datentyp)\n",
    "text1 = 10 + 1 # text1 wird zu einer Ganzzahl\n",
    "print (text1)\n",
    "text1 = '10 + 1'# text1 wird wieder zu einer Zeichenkette\n",
    "print (text1)"
   ]
  },
  {
   "cell_type": "markdown",
   "metadata": {},
   "source": [
    "### Datentypen\n",
    "In Python gibt es verschiedene Datentypen. In diesem Seminar sind die wichtigsten Datentypen die **Zeichenkette** (String) und die **Liste** (List). Die Liste kann auch mehrdimensional sein und kann auch **Array** genannt werden."
   ]
  },
  {
   "cell_type": "code",
   "execution_count": null,
   "metadata": {},
   "outputs": [],
   "source": [
    "zeichenkette1 = 'Hallo'\n",
    "zeichenkette2 = 'H'\n",
    "zeichenkette3 = \"H\"\n",
    "liste1 = ['Hallo', 'Welt', 'Hallo', 'Welt']\n",
    "array1 = [liste1, ['Hallo', 'Welt', 'Hallo', 'Welt']]\n",
    "array2 = [liste1, liste1]\n",
    "array3D = [array2, array2]\n",
    "print(array3D)"
   ]
  },
  {
   "cell_type": "markdown",
   "metadata": {},
   "source": [
    "#### Zugriff auf Elemente in Listen/Arrays\n",
    "Der Zugriff auf Elemente in Listen erfolgt über eckige Klammern ( [] ) nach dem Bezeichner der Variable.<br>\n",
    "Listen lassen sich auch verschachteln. Meist nennt man die verschachtelten Listen dann Arrays.<br>\n",
    "<br>\n",
    "**Aufgabe 1.1:** Definieren Sie eine Liste mit den Elementen H,A,L,L,O und geben Sie das 3. Element aus. <br>\n",
    "**Aufgabe 1.2:** Definieren Sie eine zweite Liste mit den Elementen O,L,L,A,H. Definieren Sie ein Array mit den beiden Listen als Inhalt. Geben Sie das Array aus."
   ]
  },
  {
   "cell_type": "code",
   "execution_count": null,
   "metadata": {},
   "outputs": [],
   "source": [
    "# Aufgabe 1.1\n",
    "#\n",
    "liste1 = ['H','A','L','L','O']\n",
    "print(liste[2])\n",
    "#\n",
    "# Aufgabe 1.2\n",
    "liste2 = ['O','L','L','A','H']\n",
    "array1 = [liste1, liste2]\n",
    "print(array1)"
   ]
  },
  {
   "cell_type": "markdown",
   "metadata": {},
   "source": [
    "**Funktionsaufrufe** sind auch Anweisungen. Auf dem Funktionsnamen folgen runde Klammern ( () ) die einen oder mehrere Parameter beinhaltet. Eine Funktion führt entweder eine Aktion aus, gibt einen Wert zurück oder es erfolgt beides.<br>\n",
    "So gibt *print* nur etwas aus, *len* gibt einen Wert zurück, den man in eine extra Variable schreiben kann.<br>\n",
    "<br>\n",
    "Funktionen können allein stehen (*print*, *len*, *min*, *max*) oder auch an ein Element gebunden sein (liste1.append(...)).<br>\n",
    "<br>\n",
    "print - Ausgabe<br>\n",
    "len - gibt die Länge des Elements zurück<br>\n",
    "min - gibt das kleineste Element zurück<br>\n",
    "max - gibt das größte Element zurück<br>\n",
    "<br>\n",
    "Das Verschachteln von Funktionen ist auch möglich."
   ]
  },
  {
   "cell_type": "code",
   "execution_count": null,
   "metadata": {},
   "outputs": [],
   "source": [
    "print(liste1)\n",
    "len(liste1)\n",
    "min(0,2,3,4,-1)\n",
    "max(0,2,3,4,-1)\n",
    "print(max(0,2,3,4,-1))"
   ]
  },
  {
   "cell_type": "markdown",
   "metadata": {},
   "source": [
    "**Aufgabe 2:** Weisen Sie einer neuen Variable die Länge des 2. Elementes vom Array aus Aufgabe 1.2 zu und geben Sie diese aus."
   ]
  },
  {
   "cell_type": "code",
   "execution_count": null,
   "metadata": {},
   "outputs": [],
   "source": [
    "# Aufgabe 2\n",
    "laenge_der_liste = len(liste1)\n",
    "print(laenge_der_liste)\n",
    "# kürzer geschrieben:\n",
    "print(len(liste1))"
   ]
  },
  {
   "cell_type": "markdown",
   "metadata": {},
   "source": [
    "### Kontrollstrukturen\n",
    "Python arbeitet Anweisungen grundsätzlich Zeile für Zeile der Reihe nach ab. Der Programmfluss kann wie in den meisten Programmiersprachen aber durch Verzweigungen und Wiederholungen kontrolliert werden.<br>\n",
    "<br>\n",
    "**Verzweigungen (Bedingungen)** knüpfen die Ausführung von Anweisungen an eine Bedingung. Sie werden durch die Schlüsselwörter `if`, `elif` und `else` beschrieben.<br>\n",
    "**Bedingungen** können Vergleiche von Variablen sein die mittels **==** Operator verglichen werden. Es gibt aber auch andere Vergleichsoperatoren wie: **<=** oder **>=**."
   ]
  },
  {
   "cell_type": "code",
   "execution_count": null,
   "metadata": {},
   "outputs": [],
   "source": [
    "text1 = 'Hallo Welt'\n",
    "text2 = \"Hallo andere Welt\"\n",
    "\n",
    "if text1 == text2:                                                                # if (Bedingung):\n",
    "    print('Die Texte text1 und text2 sind gleich.')                               #     (Answeisung)\n",
    "else:                                                                             # else:\n",
    "    print('Die Texte text1 und text2 sind nicht gleich.')                         #     (Answeisung)\n",
    "    \n",
    "print('Da dieser Text nicht eingerückt wurde, wird dieser immer ausgegeben.')"
   ]
  },
  {
   "cell_type": "code",
   "execution_count": null,
   "metadata": {},
   "outputs": [],
   "source": [
    "# Wir erweitern mit \"elif\"\n",
    "text1 = 'Hallo Welt'\n",
    "text2 = \"Hallo andere Welt\"\n",
    "text3 = 'Hallo andere Welt'\n",
    "\n",
    "if text1 == text2:\n",
    "    print('Die Texte text1 und text2 sind gleich.')\n",
    "elif text1 == text3:\n",
    "    print('Die Texte text1 und text3 sind gleich.')\n",
    "elif text2 == text3:\n",
    "    print('Die Texte text2 und text3 sind gleich.')\n",
    "else:\n",
    "    print('Keiner der Texte sind nicht gleich.')"
   ]
  },
  {
   "cell_type": "markdown",
   "metadata": {},
   "source": [
    "**Aufgabe 3:** Definieren Sie sich 4 Zeichenketten und nutzen Sie wie im Beispiel darüber *if*, *elif* und *else* zum Vergleich der Zeichenketten."
   ]
  },
  {
   "cell_type": "code",
   "execution_count": null,
   "metadata": {},
   "outputs": [],
   "source": [
    "# Aufgabe 3"
   ]
  },
  {
   "cell_type": "markdown",
   "metadata": {},
   "source": [
    "**Schleifen (Wiederholungen)** können in Form von `for`- und `while`-Schleifen auftreten. In diesem Seminar beschäftigen wir uns allerdings nur mit den *For-Schleifen*.<br>\n",
    "Schleifen können mit `break` direkt beendet werden und überspringen mit `continue` einen Durchlauf. Die `for`-Schleife erwartet als Argument einen Ausdruck, der durchlaufen werden kann. Das kann zum Beispiel eine Liste oder ein Tupel sein"
   ]
  },
  {
   "cell_type": "code",
   "execution_count": null,
   "metadata": {},
   "outputs": [],
   "source": [
    "liste_food = ['Hamburger', 'Cheeseburger', 'Veggieburger']\n",
    "for xxx in liste_food:\n",
    "    print('I like ' + xxx)\n",
    "    \n",
    "# geht genauso, würde aber niemand machen\n",
    "zaehler = 0\n",
    "for food in liste_food:\n",
    "    print('I like ' + liste_food[zaehler])\n",
    "    # zähler wird bei jedem Schleifendurchlauf um 1 erhöht\n",
    "    zaehler = zaehler + 1\n"
   ]
  },
  {
   "cell_type": "code",
   "execution_count": null,
   "metadata": {},
   "outputs": [],
   "source": [
    "for zahl in range(0,10):\n",
    "    print(zahl)"
   ]
  },
  {
   "cell_type": "markdown",
   "metadata": {},
   "source": [
    "**Aufgabe 4:** Programmieren Sie eine Schleife, welche die die Elemente des Arrays liste1 einzeln Zeile für Zeile ausgibt."
   ]
  },
  {
   "cell_type": "code",
   "execution_count": null,
   "metadata": {},
   "outputs": [],
   "source": [
    "# Aufgabe 4\n",
    "for buchstabe in liste1:\n",
    "    print(buchstabe)"
   ]
  },
  {
   "cell_type": "code",
   "execution_count": null,
   "metadata": {},
   "outputs": [],
   "source": [
    "# jetzt umständlich mit Zählvariable\n",
    "zaehler = 0\n",
    "for buchstabe in liste1:\n",
    "    print(liste1[zaehler])\n",
    "    zaehler = zaehler + 1"
   ]
  },
  {
   "cell_type": "code",
   "execution_count": null,
   "metadata": {},
   "outputs": [],
   "source": [
    "# For Schleifen mit enumerate-Funktion\n",
    "for buchstaben_index, buchstabe in enumerate(liste1):\n",
    "    print(buchstaben_index, '->', buchstabe)"
   ]
  },
  {
   "cell_type": "code",
   "execution_count": null,
   "metadata": {},
   "outputs": [],
   "source": [
    "# For Schleife, welche durch die Zeichen einer Zeichenkette durchläuft\n",
    "zeichenkette1 = 'Hallo Welt'\n",
    "for zeichen in zeichenkette1:\n",
    "    print(zeichen)"
   ]
  },
  {
   "cell_type": "markdown",
   "metadata": {},
   "source": [
    "### Öffnen und Lesen von Textdateien\n",
    "Der Pfad der Textdatei kann als String angegeben werden:"
   ]
  },
  {
   "cell_type": "code",
   "execution_count": null,
   "metadata": {},
   "outputs": [],
   "source": [
    "pfad_zur_textdatei = './data/nl/001.txt'"
   ]
  },
  {
   "cell_type": "code",
   "execution_count": null,
   "metadata": {},
   "outputs": [],
   "source": [
    "# DIES MUESST IHR EUCH NICH MERKEN, ABER EINFACH KOPIEREN KOENNEN MÜSST\n",
    "#\n",
    "# Datei zum Lesen öffnen ('r'-Flag)\n",
    "datei = open(pfad_zur_textdatei, 'r')\n",
    "# Einzelne Zeilen der Datei in eine Liste speichern\n",
    "text_zeilen = datei.readlines()\n",
    "# Bereinigung: Zeilenumruch ('\\n') vom Zeilenende löschen\n",
    "for zeilen_nummer, zeile in enumerate(text_zeilen):\n",
    "    text_zeilen[zeilen_nummer] = text_zeilen[zeilen_nummer].strip()\n",
    "print(text_zeilen)"
   ]
  },
  {
   "cell_type": "markdown",
   "metadata": {},
   "source": [
    "**Aufgabe 5.1:** Geben Sie die 6. Zeile aus!<br>\n",
    "**Aufgabe 5.2:** Geben Sie die alle Zeilen einzeln untereinander aus! Nutzen Sie dazu die *for*-Schleife!<br>"
   ]
  },
  {
   "cell_type": "code",
   "execution_count": null,
   "metadata": {},
   "outputs": [],
   "source": [
    "# Aufgabe 5.1\n",
    "print(text_zeilen[5])"
   ]
  },
  {
   "cell_type": "code",
   "execution_count": null,
   "metadata": {},
   "outputs": [],
   "source": [
    "# Aufgabe 5.2 (Ausgabe ohne Leerzeilen)\n",
    "for zeile in text_zeilen:\n",
    "    if zeile != '':      \n",
    "        print(zeile)"
   ]
  },
  {
   "cell_type": "code",
   "execution_count": null,
   "metadata": {},
   "outputs": [],
   "source": [
    "# ZUSATZAUFGABE: for-Schleifen mit enumerate\n",
    "# Hier bekommt ihr den Index mit\n",
    "for zeilen_index, zeile in enumerate(text_zeilen):\n",
    "    print(zeilen_index, ' : ', zeile)"
   ]
  },
  {
   "cell_type": "code",
   "execution_count": null,
   "metadata": {},
   "outputs": [],
   "source": []
  }
 ],
 "metadata": {
  "kernelspec": {
   "display_name": "Python 3",
   "language": "python",
   "name": "python3"
  },
  "language_info": {
   "codemirror_mode": {
    "name": "ipython",
    "version": 3
   },
   "file_extension": ".py",
   "mimetype": "text/x-python",
   "name": "python",
   "nbconvert_exporter": "python",
   "pygments_lexer": "ipython3",
   "version": "3.7.9"
  }
 },
 "nbformat": 4,
 "nbformat_minor": 2
}
