{
 "cells": [
  {
   "cell_type": "markdown",
   "metadata": {},
   "source": [
    "# Übung 2"
   ]
  },
  {
   "cell_type": "markdown",
   "metadata": {},
   "source": [
    "Willkommen zur ersten Übung zur Programmiersprache Python die wir **gemeinsam** durcharbeiten wollen."
   ]
  },
  {
   "cell_type": "markdown",
   "metadata": {},
   "source": [
    "## Interaktive Notizbücher\n",
    "In dieser Übung werden wir mit interaktiven Notizbüchern arbeiten. Hier sind Code und Text in einem Dokument gemischt. Einzelne Abschnitte oder auch *Zellen* können entweder Code oder Text enthalten. Codezellen können jederzeit ausgeführt werden. Dazu können die Schaltflächen neben den jeweiligen Zellen, die Symbolleiste oder die Tastenkombination <span class=\"label label-default\">⇧</span> + <span class=\"label label-default\">⏎</span> verwendet werden.\n",
    "\n",
    "Probieren Sie aus, die folgende Codezelle auszuführen:"
   ]
  },
  {
   "cell_type": "code",
   "execution_count": null,
   "metadata": {},
   "outputs": [],
   "source": [
    "print('Hello World')"
   ]
  },
  {
   "cell_type": "markdown",
   "metadata": {},
   "source": [
    "### Reihenfolge\n",
    "Neben der Codezeile wird eine laufende Nummer für jede Ausführung angezeigt. Es ist wichtig auf die Reihenfolge der Ausführung zu achten, insbesondere wenn globale Variablen betroffen sind. Schauen Sie in den folgenden Zellen, wie die Ausführungsreihenfolge die Ausgabe beeinflusst, und beobachten Sie die laufenden Nummern:"
   ]
  },
  {
   "cell_type": "code",
   "execution_count": null,
   "metadata": {},
   "outputs": [],
   "source": [
    "text1 = 'Hallo '"
   ]
  },
  {
   "cell_type": "code",
   "execution_count": null,
   "metadata": {},
   "outputs": [],
   "source": [
    "text2 = 'Welt!'"
   ]
  },
  {
   "cell_type": "code",
   "execution_count": null,
   "metadata": {},
   "outputs": [],
   "source": [
    "text1 = text1 + text2"
   ]
  },
  {
   "cell_type": "code",
   "execution_count": null,
   "metadata": {},
   "outputs": [],
   "source": [
    "print(text1)"
   ]
  },
  {
   "cell_type": "markdown",
   "metadata": {},
   "source": [
    "### Zurücksetzen des Python-Notebooks\n",
    "Der Python-Prozess, der die Codezellen ausführt, wird auch *Kernel* genannt. Falls der Kernel abstürzt oder einen unbrauchbaren Zustand erreicht hat, kann er über das Kernel-Menu zurückgesetzt werden. Dabei können auch die Ausgaben unter den Codezellen entfernt werden. Falls nur die Ausgaben entfernt werden sollen, ist das Cell-Menü die richtige Wahl.\n",
    "\n",
    "Um ein Notizbuch einmal komplett wie ein Programm auszuführen, können Sie die Option *Restart & Run All* verwenden. Sie sollten in den späteren Übungen darauf achten, dass das mit ihren Notizbüchern möglich ist und auch zu korrekten Ergebnissen führt."
   ]
  },
  {
   "cell_type": "markdown",
   "metadata": {},
   "source": [
    "## Python als Programmiersprache\n",
    "Es gibt mehrere Gründe für die aktuelle Beliebtheit von Python in Forschung und Lehre. Einerseits ist die Sprache selbst einfach gehalten und intuitiv verständlich, aber gleichzeitig sehr ausdrucksstark. Andererseits ist das Ökosystem um Python gut aufgestellt. Bibliotheken sind einfach zu installieren und vielfältig verfügbar.\n",
    "\n",
    "In dieser Übung setzen wir die aktuelle Version Python 3 ein. Viele ältere Projekte sind in der Version 2 programmiert, zu welcher die aktuelle Variante *nicht* abwärtskompatibel ist.\n",
    "\n",
    "Aufgrund seiner Konzeption ist Python gut für \"learning by doing\" geeignet und dieser Ansatz wird auch in der Übung verfolgt - daher beschränkt sich diese Aufgabe auf die wesentlichen Elemente."
   ]
  },
  {
   "cell_type": "markdown",
   "metadata": {},
   "source": [
    "### Syntax\n",
    "Bei Python ist Whitespace ein essentieller Bestandteil der Syntax. Einzelne Anweisungen werden nicht durch ein Semikolon getrennt, sondern durch einen Zeilenumbruch.\n",
    "\n",
    "Um Blöcke zu strukturieren, verwendet Python **Einrückungen** statt Klammern. Ein Block wird normalerweise durch einen `:` am Ende der vorherigen Zeile eingeleitet:"
   ]
  },
  {
   "cell_type": "code",
   "execution_count": null,
   "metadata": {},
   "outputs": [],
   "source": [
    "text1 = 'Hallo'\n",
    "text2 = 'Welt'\n",
    "\n",
    "if text1 == 'Hallo' and text2 == 'Welt':\n",
    "    print ('text1 lautet: ', text1)\n",
    "    print ('text2 lautet: ', text2)\n",
    "else:\n",
    "    print ('Fehler!')\n",
    "print('Dieser Text erscheint immer, da er nicht eingerückt wurde.')"
   ]
  },
  {
   "cell_type": "markdown",
   "metadata": {},
   "source": [
    "Aufgrund der Einrückung ist leicht zu erkennen, wo der Block endet. Während ein schlecht oder nicht eingerücktes C-Programm nur unleserlich ist, würde es in Python nicht einmal der Syntax entsprechen."
   ]
  },
  {
   "cell_type": "markdown",
   "metadata": {},
   "source": [
    "**Anweisungen** können beliebige Ausdrücke sein. Wichtig sind dabei vor allem **Zuweisungen**. Eine Besonderheit von Python ist, das Variablen vor der Verwendung nicht deklariert werden müssen:"
   ]
  },
  {
   "cell_type": "code",
   "execution_count": null,
   "metadata": {},
   "outputs": [],
   "source": [
    "text1 = 'Hallo'\n",
    "print (text1)\n",
    "# Variablen können auch überschrieben werden (auch mit einem anderen Datentyp)\n",
    "text1 = 10 + 1\n",
    "print (text1)"
   ]
  },
  {
   "cell_type": "markdown",
   "metadata": {},
   "source": [
    "Tupel können außerdem auch auf der linken Seite von Zuweisungen eingesetzt werden, um **Mehrfachzuweisungen** vorzunehmen:"
   ]
  },
  {
   "cell_type": "code",
   "execution_count": null,
   "metadata": {},
   "outputs": [],
   "source": [
    "text1, text2 = 'Hallo', 'Welt'\n",
    "print(text1)\n",
    "print(text2)"
   ]
  },
  {
   "cell_type": "markdown",
   "metadata": {},
   "source": [
    "**Deklaration** einer Variable bedeutet, dass man dem Interpreter oder Compiler die Variable bekannt macht und dessen Datentyp eindeutig ist.<br>\n",
    "**Definition** einer Variable bedeuetet, dass dieser ein bestimmter Wert zugeordnet wird."
   ]
  },
  {
   "cell_type": "markdown",
   "metadata": {},
   "source": [
    "### Datentypen\n",
    "In Python gibt es verschiedene Datentypen. In diesem Seminar sind die wichtigsten Datentypen die **Zeichenkette** (String) und die **Liste** (List). Die Liste kann auch mehrdimensional sein und kann auch **Array** genannt werden."
   ]
  },
  {
   "cell_type": "code",
   "execution_count": null,
   "metadata": {},
   "outputs": [],
   "source": [
    "zeichenkette1 = 'Hallo'\n",
    "liste1 = ['Hallo', 'Welt', 'Hallo', 'Welt']\n",
    "array1 = [liste1, ['Hallo', 'Welt', 'Hallo', 'Welt']]"
   ]
  },
  {
   "cell_type": "markdown",
   "metadata": {},
   "source": [
    "**Aufgabe 1:** Testen Sie die verschiedenen Möglichkeiten Zeichenketten zu definieren und deren Besonderheiten mit den Umgang von Apostrophen/Anführungsstrichen in Zeichenketten"
   ]
  },
  {
   "cell_type": "code",
   "execution_count": null,
   "metadata": {},
   "outputs": [],
   "source": [
    "# Platz zum Programmieren"
   ]
  },
  {
   "cell_type": "markdown",
   "metadata": {},
   "source": [
    "**Aufgabe 2.1:** Definieren Sie eine Liste mit den Elementen H,A,L,L,O und geben Sie das 3. Element aus. <br>\n",
    "**Aufgabe 2.2:** Definieren Sie eine zweite Liste mit den Elementen O,L,L,A,H. Definieren Sie ein Array mit den beiden Listen als Inhalt. Geben Sie das Array aus."
   ]
  },
  {
   "cell_type": "code",
   "execution_count": null,
   "metadata": {},
   "outputs": [],
   "source": [
    "# Platz zum Programmieren"
   ]
  },
  {
   "cell_type": "markdown",
   "metadata": {},
   "source": [
    "**Funktionsaufrufe** sind auch Anweisungen:"
   ]
  },
  {
   "cell_type": "code",
   "execution_count": null,
   "metadata": {},
   "outputs": [],
   "source": [
    "print(liste1)"
   ]
  },
  {
   "cell_type": "code",
   "execution_count": null,
   "metadata": {},
   "outputs": [],
   "source": [
    "len(liste1)"
   ]
  },
  {
   "cell_type": "code",
   "execution_count": null,
   "metadata": {},
   "outputs": [],
   "source": [
    "min(0,2,3,4,-1)"
   ]
  },
  {
   "cell_type": "code",
   "execution_count": null,
   "metadata": {},
   "outputs": [],
   "source": [
    "max(0,2,3,4,-1)"
   ]
  },
  {
   "cell_type": "markdown",
   "metadata": {},
   "source": [
    "Das Verschachteln von Funktionen ist auch möglich:"
   ]
  },
  {
   "cell_type": "code",
   "execution_count": null,
   "metadata": {},
   "outputs": [],
   "source": [
    "print(max(0,2,3,4,-1))"
   ]
  },
  {
   "cell_type": "markdown",
   "metadata": {},
   "source": [
    "**Aufgabe 3:** Geben Sie die Länge des 2. Elementes in dem Array aus Aufgabe 2.2 aus."
   ]
  },
  {
   "cell_type": "code",
   "execution_count": null,
   "metadata": {},
   "outputs": [],
   "source": [
    "# Platz zum Programmieren"
   ]
  },
  {
   "cell_type": "markdown",
   "metadata": {},
   "source": [
    "Mit `#` lassen sich **Kommentarzeilen** einleiten. Mehrzeilige Kommentare werden mit `\"\"\"` umschlossen, sind aber eigentlich mehrzeilige Zeichenketten:"
   ]
  },
  {
   "cell_type": "code",
   "execution_count": null,
   "metadata": {},
   "outputs": [],
   "source": [
    "# Eine Kommentarzeile\n",
    "\"\"\" Noch zwei\n",
    "    Kommentarzeilen \"\"\"\n",
    "# Wieder ein Kommentar"
   ]
  },
  {
   "cell_type": "markdown",
   "metadata": {},
   "source": [
    "### Kontrollstrukturen\n",
    "Python arbeitet Anweisungen grundsätzlich Zeile für Zeile der Reihe nach ab. Der Programmfluss kann wie in den meisten Programmiersprachen aber durch Verzweigungen und Wiederholungen kontrolliert werden."
   ]
  },
  {
   "cell_type": "markdown",
   "metadata": {},
   "source": [
    "**Verzweigungen (Bedingungen)** knüpfen die Ausführung von Anweisungen an eine Bedingung. Sie werden durch die Schlüsselwörter `if`, `elif` und `else` beschrieben.<br>\n",
    "**Bedingungen** können Vergleiche von Variablen sein die mittels **==** Operator verglichen werden. Es gibt aber auch andere Vergleichsoperatoren wie: **<=** oder **>=**."
   ]
  },
  {
   "cell_type": "code",
   "execution_count": null,
   "metadata": {},
   "outputs": [],
   "source": [
    "text1 = 'Hallo Welt'\n",
    "text2 = \"Hallo Welt\"\n",
    "\n",
    "if text1 == text2:                                                                # if (Bedingung):\n",
    "    print('Die Texte text1 und text2 sind gleich.')                               #     (Answeisung)\n",
    "else:                                                                             # else:\n",
    "    print('Die Texte text1 und text2 sind nicht gleich.')                         #     (Answeisung)\n",
    "    \n",
    "print('Da dieser Text nicht eingerückt wurde, wird dieser immer ausgegeben.')"
   ]
  },
  {
   "cell_type": "code",
   "execution_count": null,
   "metadata": {},
   "outputs": [],
   "source": [
    "# Wir erweitern mit \"elif\"\n",
    "text1 = 'Hallo Welt'\n",
    "text2 = \"Hallo andere Welt\"\n",
    "text3 = 'Hallo andere Welt'\n",
    "\n",
    "if text1 == text2:\n",
    "    print('Die Texte text1 und text2 sind gleich.')\n",
    "elif text1 == text3:\n",
    "    print('Die Texte text1 und text3 sind gleich.')\n",
    "elif text2 == text3:\n",
    "    print('Die Texte text2 und text3 sind gleich.')\n",
    "else:\n",
    "    print('Keiner der Texte sind nicht gleich.')"
   ]
  },
  {
   "cell_type": "markdown",
   "metadata": {},
   "source": [
    "**Aufgabe 4:** Definieren Sie sich 4 Zeichenketten und nutzen Sie wie im Beispiel darüber *if*, *elif* und *else* zum Vergleich der Zeichenketten."
   ]
  },
  {
   "cell_type": "code",
   "execution_count": null,
   "metadata": {},
   "outputs": [],
   "source": [
    "# Platz zum Programmieren"
   ]
  },
  {
   "cell_type": "markdown",
   "metadata": {},
   "source": [
    "**Schleifen (Wiederholungen)** können in Form von `for`- und `while`-Schleifen auftreten. In diesem Seminar beschäftigen wir uns allerdings nur mit den *For-Schleifen*.<br>\n",
    "Schleifen können mit `break` direkt beendet werden und überspringen mit `continue` einen Durchlauf. Die `for`-Schleife erwartet als Argument einen Ausdruck, der durchlaufen werden kann. Das kann zum Beispiel eine Liste oder ein Tupel sein"
   ]
  },
  {
   "cell_type": "code",
   "execution_count": null,
   "metadata": {},
   "outputs": [],
   "source": [
    "for food in ['Hamburger', 'Cheeseburger', 'Veggieburger']:\n",
    "    print('I like ' + food)"
   ]
  },
  {
   "cell_type": "code",
   "execution_count": null,
   "metadata": {},
   "outputs": [],
   "source": [
    "liste_food = ['Hamburger', 'Cheeseburger', 'Veggieburger']\n",
    "for food in liste_food:\n",
    "    print('I like ' + food)"
   ]
  },
  {
   "cell_type": "code",
   "execution_count": null,
   "metadata": {},
   "outputs": [],
   "source": [
    "for zahl in range(0,10):\n",
    "    print(zahl)"
   ]
  },
  {
   "cell_type": "markdown",
   "metadata": {},
   "source": [
    "**Aufgabe 5:** Programmieren Sie eine Schleife, welche die die Elemente des Arrays liste1 einzeln Zeile für Zeile ausgibt."
   ]
  },
  {
   "cell_type": "code",
   "execution_count": null,
   "metadata": {},
   "outputs": [],
   "source": [
    "# Platz zum Programmieren\n",
    "liste1 = ['H','A','L','L','O']"
   ]
  },
  {
   "cell_type": "code",
   "execution_count": null,
   "metadata": {},
   "outputs": [],
   "source": [
    "\n",
    "liste1 = ['H','A','L','L','O']\n",
    "for idx in range(0,len(liste1),2):\n",
    "    print(liste1[idx])"
   ]
  },
  {
   "cell_type": "code",
   "execution_count": null,
   "metadata": {},
   "outputs": [],
   "source": [
    "# Ein sehr komplexes Beispiel. Die Schleife zählt rückwärts.\n",
    "liste1 = ['H','A','L','L','O']\n",
    "for idx in range(len(liste1)-1,-1,-1):\n",
    "    print (liste1[idx])"
   ]
  },
  {
   "cell_type": "code",
   "execution_count": null,
   "metadata": {},
   "outputs": [],
   "source": [
    "#\n",
    "liste_food = ['Hamburger', 'Cheeseburger', 'Veggieburger']\n",
    "for food_idx, food in enumerate(liste_food):\n",
    "    print(food_idx, ' : ', food)"
   ]
  },
  {
   "cell_type": "markdown",
   "metadata": {},
   "source": [
    "**Aufgabe 6:** Definiere die ein Array mit Ihren Lehrveranstaltungen dieser Woche. Inhalt des Arrays sind Listen mit jeweils 2 Elementen. Jede Liste beinhaltet Uhrzeit und Name der Veranstaltung, jeweils als Zeichenkette. <br>\n",
    "\n",
    "**Aufgabe 6.1:** Geben Sie dieses Array mit der print-Answeisung aus!<br>\n",
    "**Aufgabe 6.1:** Geben Sie dieses Array Zeile für Zeile mit Hilfe der For-Schleife aus!"
   ]
  },
  {
   "cell_type": "code",
   "execution_count": null,
   "metadata": {},
   "outputs": [],
   "source": [
    "# Platz zum Programmieren"
   ]
  },
  {
   "cell_type": "markdown",
   "metadata": {},
   "source": [
    "Schleifen können auch verschachtelt werden. Dies kommt zur Anwendung, wenn man mit komplexen Datenstrukturen wie Arrays arbeitet."
   ]
  },
  {
   "cell_type": "code",
   "execution_count": null,
   "metadata": {},
   "outputs": [],
   "source": [
    "liste_1d = ['H','A','L','L','O']     # 1-dimensionale Liste\n",
    "liste_2d = [liste_1d, liste_1d]      # 2-dimensionale Liste\n",
    "liste_3d = [liste_2d, liste_2d]      # 3-dimensionale Liste\n",
    "print(liste_3d)\n",
    "for l_2d in liste_3d:\n",
    "    for l_1d in l_2d:\n",
    "        print(l_1d)"
   ]
  },
  {
   "cell_type": "markdown",
   "metadata": {},
   "source": [
    "**Aufgabe 7:** Erweitern Sie die verschachtelte Schleife in eine 3. Ebene und geben Sie die einzelnen Elemente der 1-dimensionalen Listen des Arrays aus."
   ]
  },
  {
   "cell_type": "markdown",
   "metadata": {},
   "source": [
    "### Öffnen und Lesen von Textdateien"
   ]
  },
  {
   "cell_type": "code",
   "execution_count": null,
   "metadata": {},
   "outputs": [],
   "source": [
    "print('Das machen wir in der nächsten Übung.')"
   ]
  },
  {
   "cell_type": "code",
   "execution_count": null,
   "metadata": {},
   "outputs": [],
   "source": []
  }
 ],
 "metadata": {
  "kernelspec": {
   "display_name": "Python 3",
   "language": "python",
   "name": "python3"
  },
  "language_info": {
   "codemirror_mode": {
    "name": "ipython",
    "version": 3
   },
   "file_extension": ".py",
   "mimetype": "text/x-python",
   "name": "python",
   "nbconvert_exporter": "python",
   "pygments_lexer": "ipython3",
   "version": "3.7.9"
  }
 },
 "nbformat": 4,
 "nbformat_minor": 2
}
