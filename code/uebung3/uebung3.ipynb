{
 "cells": [
  {
   "cell_type": "markdown",
   "metadata": {},
   "source": [
    "## Übung 3"
   ]
  },
  {
   "cell_type": "markdown",
   "metadata": {},
   "source": [
    "### Wiederholung\n",
    "In der letzten Übung haben wir uns mit Bedingungen und Schleifen beschäftigt. Diese wollen wir nun noch einmal wiederholen.<br>\n",
    "**Aufgabe 0.1:** Legen Sie eine Liste mit den gegebenen 3 definierten Zeichenketten an! Anschließend geben Sie das 2 Element der Liste aus!<br>\n",
    "**Aufgabe 0.2:** Nutzen Sie die *For*-Schleife und geben Sie die 3 Zeichenketten der angelegten Liste aus!<br>\n",
    "**Aufgabe 0.3:** Erweitern Sie die *For*-Schleife indem Sie die Elemente der Liste vergleichen und nur das Element ausgeben, welches der Zeichenkette *\"Hallo andere Welt\"* gleicht!<br>"
   ]
  },
  {
   "cell_type": "code",
   "execution_count": null,
   "metadata": {},
   "outputs": [],
   "source": [
    "text1 = 'Hallo Welt'\n",
    "text2 = \"Hallo andere Welt\"\n",
    "text3 = 'Hallo ganz andere Welt'"
   ]
  },
  {
   "cell_type": "markdown",
   "metadata": {},
   "source": [
    "In dem Ordner in dem sich das Python-Notebook der Übung befindet liegt ein weiterer Ordner \"*Data*\". In diesem befinde sich die Text-Datei \"*NL_abenteur1.txt*\".<br>\n",
    "Den (relativen) Dateipfad der Textdatei kann man in eine Zeichenkette definieren:"
   ]
  },
  {
   "cell_type": "code",
   "execution_count": null,
   "metadata": {},
   "outputs": [],
   "source": [
    "# unter Linux / MacOS:\n",
    "pfad_zur_textdatei = '../data/nl/001.txt'"
   ]
  },
  {
   "cell_type": "markdown",
   "metadata": {},
   "source": [
    "### Öffnen und Lesen von Textdateien"
   ]
  },
  {
   "cell_type": "code",
   "execution_count": null,
   "metadata": {},
   "outputs": [],
   "source": [
    "# Datei zum Lesen öffnen ('r'-Flag)\n",
    "datei = open(pfad_zur_textdatei, 'r')\n",
    "# Einzelne Zeilen der Datei in eine Liste speichern\n",
    "text_zeilen = datei.readlines()\n",
    "# Bereinigung: Zeilenumruch ('\\n') vom Zeilenende löschen\n",
    "for zeilen_nummer, zeile in enumerate(text_zeilen):\n",
    "    text_zeilen[zeilen_nummer] = text_zeilen[zeilen_nummer].strip()\n",
    "print(text_zeilen)"
   ]
  },
  {
   "cell_type": "markdown",
   "metadata": {},
   "source": [
    "**Aufgabe 1.1:** Geben Sie die 5. Zeile aus!<br>\n",
    "**Aufgabe 1.2:** Geben Sie die alle Zeilen einzeln untereinander aus! Nutzen Sie dazu die *for*-Schleife!<br>"
   ]
  },
  {
   "cell_type": "code",
   "execution_count": null,
   "metadata": {},
   "outputs": [],
   "source": [
    "# Platz zum Programmieren"
   ]
  },
  {
   "cell_type": "markdown",
   "metadata": {},
   "source": [
    "### In-Operator\n",
    "Der *In*-Operator kann verwendet werden um in Zeichenketten sogenannte Teil-Zeichenketten (Sub-Strings) zu finden. Allerdings erhält man als Ergebnis nur ein Wahrheitswert (nicht die Stelle wo sich die Teil-Zeichenkette befindet).<br>\n",
    "Außerdem lässt sich mit dem *In*-Operator auch auf Listen anwenden. Dabei wird ein Wert mit allen Elementen in der Liste verglichen und ggf. *True* bzw. *False* zurückgegeben."
   ]
  },
  {
   "cell_type": "code",
   "execution_count": null,
   "metadata": {},
   "outputs": [],
   "source": [
    "text1 = 'Hello World'\n",
    "if 'Hello' in text1:\n",
    "    print('\"Hello\" ist in der Variable text1 zu finden.')\n",
    "else:\n",
    "    print('\"Hello\" ist in der Variable text1 NICHT zu finden.')\n"
   ]
  },
  {
   "cell_type": "markdown",
   "metadata": {},
   "source": [
    "**Aufgabe 2.1:** Prüfen Sie ob die Zeile *\"Um die viel Recken warben, | Niemand war ihr gram.\"* in der Liste *text_zeilen* mit den Zeilen des Nibelungenliedes vorkommt!<br>\n",
    "**Aufgabe 2.2:** Geben Sie alle Zeilen des 1. Abenteuers aus in denen das Wort \"Burgunden\" vorkommt!"
   ]
  },
  {
   "cell_type": "code",
   "execution_count": null,
   "metadata": {},
   "outputs": [],
   "source": [
    "# Platz zum Programmieren"
   ]
  },
  {
   "cell_type": "markdown",
   "metadata": {},
   "source": [
    "### String-Tokenizer\n",
    "Ein String-Tokenizer zerlegt eine Zeichenkette in sogenannte Tokens. Dies sind Teil-Zeichenketten (Sub-Strings), welche durch Trennzeichen (Delimiter) in der Ausgangszeichenkette miteinander getrennt sind. <br>\n",
    "Die *split*-Funktion kann dies umsetzen."
   ]
  },
  {
   "cell_type": "code",
   "execution_count": null,
   "metadata": {},
   "outputs": [],
   "source": [
    "text1 = 'Viel Wunderdinge melden'\n",
    "text1_tokens = text1.split(' ')\n",
    "print(text1_tokens)"
   ]
  },
  {
   "cell_type": "markdown",
   "metadata": {},
   "source": [
    "**Aufgabe 3.1:** Zerlegen Sie die erste Zeile des Nibelungenliedes in 2 Teile. Geteilt werden soll diese durch das Trennzeichen \"|\"- <br>\n",
    "**Aufgabe 3.2:** Zerlegen Sie die ersten 4 Zeilen des 1. Abenteuers des Nibelungenliedes in einzelne Wörter und geben Sie diese aus."
   ]
  },
  {
   "cell_type": "code",
   "execution_count": null,
   "metadata": {},
   "outputs": [],
   "source": [
    "# Platz zum Programmieren"
   ]
  },
  {
   "cell_type": "markdown",
   "metadata": {},
   "source": [
    "### Textdateien in Arrays strukturieren"
   ]
  },
  {
   "cell_type": "markdown",
   "metadata": {},
   "source": [
    "**Aufgabe 4.1:** Zerlegen Sie das 1. Abenteuer des Nibelungenlied in Verse, Zeilen und Wörter. <br>\n",
    "**Aufgabe 4.2:** Anschließend verschachteln Sie die Tokens in ein mehr-dimensionales Array."
   ]
  },
  {
   "cell_type": "code",
   "execution_count": null,
   "metadata": {},
   "outputs": [],
   "source": [
    "# Platz zum Programmieren"
   ]
  },
  {
   "cell_type": "code",
   "execution_count": null,
   "metadata": {},
   "outputs": [],
   "source": []
  }
 ],
 "metadata": {
  "kernelspec": {
   "display_name": "Python 3",
   "language": "python",
   "name": "python3"
  },
  "language_info": {
   "codemirror_mode": {
    "name": "ipython",
    "version": 3
   },
   "file_extension": ".py",
   "mimetype": "text/x-python",
   "name": "python",
   "nbconvert_exporter": "python",
   "pygments_lexer": "ipython3",
   "version": "3.7.9"
  }
 },
 "nbformat": 4,
 "nbformat_minor": 2
}
