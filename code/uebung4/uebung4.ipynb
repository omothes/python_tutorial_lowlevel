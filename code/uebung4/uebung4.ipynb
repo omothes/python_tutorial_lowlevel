{
 "cells": [
  {
   "cell_type": "markdown",
   "metadata": {},
   "source": [
    "## Übung 4"
   ]
  },
  {
   "cell_type": "markdown",
   "metadata": {},
   "source": [
    "### Wiederholung\n",
    "<br>\n",
    "In der letzten Übung haben Sie gelernt wie man "
   ]
  },
  {
   "cell_type": "markdown",
   "metadata": {},
   "source": [
    "**Aufgabe 1.1:** Lesen Sie das 1. Abenteuer zeilenweise in eine Liste. <br>\n",
    "**Aufgabe 1.2:** Geben Sie das 1. Abenteuer Zeile für Zeile aus. Nutzen Sie hierfür die *For*-Schleife.<br>\n",
    "**Aufgabe 1.3:** Zerlegen Sie das 1. Abenteuer des Nibelungenlied in Strophen, Zeilen und Wörter. <br>\n",
    "**Aufgabe 1.4:** Anschließend verschachteln Sie die Tokens in ein mehr-dimensionales Array.<br>\n",
    "**Aufgabe 1.5:** Geben Sie den 1. Vers der 2. Strophe aus."
   ]
  },
  {
   "cell_type": "code",
   "execution_count": null,
   "metadata": {},
   "outputs": [],
   "source": [
    "# Platz zum Programmieren"
   ]
  }
 ],
 "metadata": {
  "kernelspec": {
   "display_name": "Python 3",
   "language": "python",
   "name": "python3"
  },
  "language_info": {
   "codemirror_mode": {
    "name": "ipython",
    "version": 3
   },
   "file_extension": ".py",
   "mimetype": "text/x-python",
   "name": "python",
   "nbconvert_exporter": "python",
   "pygments_lexer": "ipython3",
   "version": "3.7.9"
  }
 },
 "nbformat": 4,
 "nbformat_minor": 2
}
