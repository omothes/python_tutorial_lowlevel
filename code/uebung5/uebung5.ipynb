{
 "cells": [
  {
   "cell_type": "markdown",
   "metadata": {},
   "source": [
    "# Übung 5"
   ]
  },
  {
   "cell_type": "markdown",
   "metadata": {},
   "source": [
    "## Transkribus\n",
    "\n",
    "Erstellen Sie sich einen Nutzer-Account auf https://transkribus.eu/Transkribus/ mit Ihrer Uni-Mailadresse und laden Sie sich die **Transkribus**-Software herunter. Speichern Sie das Programm in ihr Home-Laufwerk (Laufwerk O:/).\n",
    "<br>\n",
    "<br>\n",
    "Der erste Teil der heutigen Übung soll Sie mit Transkribus vertraut machen, so dass Sie eigenständig Scans von handschriftlichen Texten transkribieren können und auch die automatische Transkripier-Funktion von Transkribus kennenlernen.<br>\n",
    "<br>\n",
    "Auf der Webseite https://www.e-codices.unifr.ch/en/fmb/cb-0117/1r/0/Sequence-862 finden Sie Scans der einzelnen Seiten einer Handschrift des Nibelungenliedes.<br>\n",
    "Laden Sie sich eine Seite als JPEG-Datei herunter.\n",
    "<br>\n",
    "Alle weiteren Schritte werden wir gemeinsam ausführen.<br>\n",
    "## PythonÜbung\n",
    "\n",
    "In der heutigen Übung werden wir wieder einiges wiederholen, was Sie sich in den letzten Übungen angeeignet haben."
   ]
  },
  {
   "cell_type": "code",
   "execution_count": null,
   "metadata": {},
   "outputs": [],
   "source": []
  },
  {
   "cell_type": "markdown",
   "metadata": {},
   "source": [
    "Die Funktion *append* fügt einer Liste / einem Array ein Element am Ende an. Die Funktion kann eine beliebige Liste / bliebiges Array angefügt werden. In einfachen Klammern () staht das anzufügendene Element.<br>\n",
    "<br>\n",
    "**Aufgabe 1.1:** Fügen Sie ein Zeichen an die Liste an und geben Sie die Liste aus. <br>"
   ]
  },
  {
   "cell_type": "code",
   "execution_count": 1,
   "metadata": {},
   "outputs": [],
   "source": [
    "meine_liste1 = ['H','A','L','L']\n",
    "mein_string1 = 'O'\n",
    "# Platz fuer Aufgabe 1.1"
   ]
  },
  {
   "cell_type": "markdown",
   "metadata": {},
   "source": [
    "**Aufgabe 1.2:** Fügen Sie die einzelnen Zeichen aus mein_string2 an meine_liste1 an. <br>"
   ]
  },
  {
   "cell_type": "code",
   "execution_count": 2,
   "metadata": {},
   "outputs": [],
   "source": [
    "mein_string2 = 'WELT'\n",
    "# Platz zum fuer Aufgabe 1.2"
   ]
  },
  {
   "cell_type": "markdown",
   "metadata": {},
   "source": [
    "**Aufgabe 2.1:** Laden Sie mehrere Textdateien und speichern Sie diese in einer Liste ab. Hierfür liegen im *data*-Ordner die ersten 5 Abenteuer des Nibelungenliedes als Textdateien bereit.<br>"
   ]
  },
  {
   "cell_type": "code",
   "execution_count": 4,
   "metadata": {},
   "outputs": [],
   "source": [
    "pfade_zu_den_textdateien = ['../data/001.txt','../data/002.txt','../data/003.txt','../data/004.txt','../data/005.txt']\n",
    "liste_mit_den_5_abenteuert = []\n",
    "# Platz fuer Aufgabe 2.1\n"
   ]
  },
  {
   "cell_type": "code",
   "execution_count": null,
   "metadata": {},
   "outputs": [],
   "source": []
  },
  {
   "cell_type": "code",
   "execution_count": null,
   "metadata": {},
   "outputs": [],
   "source": []
  }
 ],
 "metadata": {
  "kernelspec": {
   "display_name": "Python 3",
   "language": "python",
   "name": "python3"
  },
  "language_info": {
   "codemirror_mode": {
    "name": "ipython",
    "version": 3
   },
   "file_extension": ".py",
   "mimetype": "text/x-python",
   "name": "python",
   "nbconvert_exporter": "python",
   "pygments_lexer": "ipython3",
   "version": "3.7.9"
  }
 },
 "nbformat": 4,
 "nbformat_minor": 2
}
