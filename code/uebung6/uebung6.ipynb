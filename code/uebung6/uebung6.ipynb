{
 "cells": [
  {
   "cell_type": "markdown",
   "metadata": {},
   "source": [
    "# Übung 6\n"
   ]
  },
  {
   "cell_type": "markdown",
   "metadata": {},
   "source": [
    "### Einlesen von XML-Dateien\n",
    "Sie wissen nun was XML-Dateien sind und wie diese aussehen. Wir wollen nun die XML-Datei aus den Folien in Python einlesen.<br>\n",
    "Folgende Zeilen lesen eine XML-Datei ein und geben die **Tags** und zugehörige Text-Werte der ersten hierarischen Ebene zurück:"
   ]
  },
  {
   "cell_type": "code",
   "execution_count": null,
   "metadata": {},
   "outputs": [],
   "source": [
    "from xml.etree import ElementTree\n",
    "\n",
    "pfad_zur_xml_datei = './data/xml_beispiel.xml'\n",
    "\n",
    "document = ElementTree.parse(pfad_zur_xml_datei)\n",
    "#print(document)\n",
    "wurzel_knoten = document.getroot()\n",
    "print(wurzel_knoten.tag)\n",
    "#\n",
    "for kind_von_wurzel in wurzel_knoten:\n",
    "    print (kind_von_wurzel.tag, ' -> ', kind_von_wurzel.text)"
   ]
  },
  {
   "cell_type": "markdown",
   "metadata": {},
   "source": [
    "**Aufgabe 0:** Geben Sie die einzelnen Vers-Tags und deren Text-Werte aus."
   ]
  },
  {
   "cell_type": "code",
   "execution_count": null,
   "metadata": {},
   "outputs": [],
   "source": [
    "# Aufgabe 0\n",
    "s_k = wurzel_knoten[2]\n",
    "for kind_von_wurzel in s_k:\n",
    "    print (kind_von_wurzel.tag, ' -> ', kind_von_wurzel.text)"
   ]
  },
  {
   "cell_type": "markdown",
   "metadata": {},
   "source": [
    "### Einlesen mehrere Textdateien\n",
    "Im Ordner *./data/nl/* befinden sich einzelne Textdateien aller Abenteuer des Nibelungenliedes.<br>\n",
    "<br>\n",
    "Mit **Funktionen** kann man sich viel Programmieraufwand ersparen. Dies ist nützlich, wenn beispielsweise mehrere Anweisungen mehrmals aufgerufen werden müssen.\n",
    "Eine Funktion beginnt immer mit einem *def*, gefolgt vom Funktionsnamen, welcher frei wählbar ist. Darauf folgen geschweifte Klammern ( (...) ) mit Funktionsparameter, welche in der Funktion verwendet werden können.<br>\n",
    "<br>\n",
    "Mit der folgenden **Funktion** *file_list* erhält man die Liste aller absoluten Dateie-Pfade in einem angegeben Pfad eines Ordners:"
   ]
  },
  {
   "cell_type": "code",
   "execution_count": null,
   "metadata": {},
   "outputs": [],
   "source": [
    "# Einbinden einer Bibliothek (hier: os), welche vordefinierte Funktionen beinhaltet.\n",
    "import os\n",
    "\n",
    "\n",
    "# Definition einer eigenen Funktion\n",
    "def file_list(path='.'):\n",
    "    files = []\n",
    "    for filename in os.listdir(path):\n",
    "        if os.path.isfile(os.path.join(path, filename)):\n",
    "            files.append(os.path.join(path,filename))            \n",
    "        else:\n",
    "            list_files(os.path.join(path, filename))\n",
    "    # Sortieren der Dateinamen alphabetisch aufsteigend\n",
    "    files.sort()\n",
    "    # Rückgabewert\n",
    "    return files\n",
    "# Ende der Funktionsdefinition\n",
    "\n",
    "\n",
    "# Anwenden der Funktion. In Dateipfade wird der Rückgabewert der Funktion \"gespeichert\"\n",
    "datei_pfade = file_list('../data/nl/')\n",
    "#Ausgabe\n",
    "print(datei_pfade)"
   ]
  },
  {
   "cell_type": "markdown",
   "metadata": {},
   "source": [
    "**Aufgabe 1:** Lesen Sie die einzelnen Abenteuer-Textdateien des Nibelungenlides zeilenweise in eine Liste ein und geben Sie diese aus. (**Zusatzaufgabe:** Verhindern Sie dabei, dass die Leerzeilen zwischen den Strophen mit in die Liste gespeichert werden.)"
   ]
  },
  {
   "cell_type": "code",
   "execution_count": null,
   "metadata": {},
   "outputs": [],
   "source": [
    "# Aufgabe 1"
   ]
  },
  {
   "cell_type": "markdown",
   "metadata": {},
   "source": [
    "**Aufgabe 2** Geben Sie die Nummer der Verszeile *Das waren reiche Kränze, | damit ihr schönes Haar* aus."
   ]
  },
  {
   "cell_type": "code",
   "execution_count": null,
   "metadata": {},
   "outputs": [],
   "source": [
    "# Aufgabe 2\n",
    "gesuchter_vers = 'Das waren reiche Kränze, | damit ihr schönes Haar'"
   ]
  },
  {
   "cell_type": "markdown",
   "metadata": {},
   "source": [
    "**Aufgabe 3** Wie oft tritt der Name *Siegfried* im gesamten Nibelungenliedes auf?"
   ]
  },
  {
   "cell_type": "code",
   "execution_count": null,
   "metadata": {},
   "outputs": [],
   "source": [
    "# Aufgabe 3\n",
    "gesuchte_name = 'Siegfried'"
   ]
  },
  {
   "cell_type": "markdown",
   "metadata": {},
   "source": [
    "**Aufgabe 4** Wie oft tritt der Name *Siegfried* und *Kriemhild* in einer Strophe im gesamten Nibelungenliedes auf?"
   ]
  },
  {
   "cell_type": "code",
   "execution_count": null,
   "metadata": {},
   "outputs": [],
   "source": [
    "# Aufgabe 4\n",
    "gesuchte_name1 = 'Siegfried'\n",
    "gesuchte_name2 = 'Kriemhild'"
   ]
  },
  {
   "cell_type": "code",
   "execution_count": null,
   "metadata": {},
   "outputs": [],
   "source": []
  },
  {
   "cell_type": "code",
   "execution_count": null,
   "metadata": {},
   "outputs": [],
   "source": []
  }
 ],
 "metadata": {
  "kernelspec": {
   "display_name": "Python 3",
   "language": "python",
   "name": "python3"
  },
  "language_info": {
   "codemirror_mode": {
    "name": "ipython",
    "version": 3
   },
   "file_extension": ".py",
   "mimetype": "text/x-python",
   "name": "python",
   "nbconvert_exporter": "python",
   "pygments_lexer": "ipython3",
   "version": "3.7.9"
  }
 },
 "nbformat": 4,
 "nbformat_minor": 2
}
