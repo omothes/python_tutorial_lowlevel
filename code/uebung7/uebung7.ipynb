{
 "cells": [
  {
   "cell_type": "markdown",
   "metadata": {},
   "source": [
    "# Übung 7\n",
    "Wir wollen in der heutigen Übung das 1. Abenteuer des Nibelungenliedes aus einer Textdatei in eine XML-Datei speichern.<br>\n",
    "Hierfür müssen wir die Textdatei des 1. Abteuers laden:"
   ]
  },
  {
   "cell_type": "code",
   "execution_count": null,
   "metadata": {},
   "outputs": [],
   "source": [
    "pfad_zur_textdatei = '../data/nl/001.txt'\n",
    "#\n",
    "# Datei zum Lesen öffnen ('r'-Flag)\n",
    "datei = open(pfad_zur_textdatei, 'r')\n",
    "# Einzelne Zeilen der Datei in eine Liste speichern\n",
    "text_zeilen = datei.readlines()\n",
    "# Bereinigung: Zeilenumruch ('\\n') vom Zeilenende löschen\n",
    "for zeilen_nummer, zeile in enumerate(text_zeilen):\n",
    "    text_zeilen[zeilen_nummer] = text_zeilen[zeilen_nummer].strip()\n",
    "print(text_zeilen)"
   ]
  },
  {
   "cell_type": "markdown",
   "metadata": {},
   "source": [
    "Wir erstellen uns nun einen leeren XML-Baum (Hierarchie), in der wir den Inhalt des 1. Abenteuers den Nibelungenliedes speichern wollen. Anschließend schreiben wir diesen Baum in eine XML-Datei:"
   ]
  },
  {
   "cell_type": "code",
   "execution_count": null,
   "metadata": {},
   "outputs": [],
   "source": [
    "# Einbinden eines Paket zur Bearbeitung von XML-Dateien\n",
    "from xml.etree import ElementTree\n",
    "\n",
    "wurzel_knoten = ElementTree.Element(\"nibelungenlied\")\n",
    "# Abenteuer-Knoten wird das Kind vom Wurzel-Knoten\n",
    "abenteuer_knoten = ElementTree.SubElement(wurzel_knoten,\"abenteuer\")\n",
    "# Für jede Zeile / jeden Vers legen wir einen Vers-Knoten an und weißen jeweils den Abenteuer-Knoten als Eltern-Knoten zu\n",
    "for vers in text_zeilen:\n",
    "    vers_knoten = ElementTree.SubElement(abenteuer_knoten, 'vers').text = vers\n",
    "\n",
    "# Erzeugen des Baumes\n",
    "xml_baum = ElementTree.ElementTree(wurzel_knoten)\n",
    "xml_baum.write(\"../data/abenteuer_1.xml\")"
   ]
  },
  {
   "cell_type": "markdown",
   "metadata": {},
   "source": [
    "**Aufgabe 1:** Laden Sie einzeln alle Abenteuer des Nibelungenliedes und speichern Sie diese wie im obigen Format in eine XML-Datei."
   ]
  },
  {
   "cell_type": "code",
   "execution_count": null,
   "metadata": {},
   "outputs": [],
   "source": []
  }
 ],
 "metadata": {
  "kernelspec": {
   "display_name": "Python 3",
   "language": "python",
   "name": "python3"
  },
  "language_info": {
   "codemirror_mode": {
    "name": "ipython",
    "version": 3
   },
   "file_extension": ".py",
   "mimetype": "text/x-python",
   "name": "python",
   "nbconvert_exporter": "python",
   "pygments_lexer": "ipython3",
   "version": "3.7.9"
  }
 },
 "nbformat": 4,
 "nbformat_minor": 2
}
