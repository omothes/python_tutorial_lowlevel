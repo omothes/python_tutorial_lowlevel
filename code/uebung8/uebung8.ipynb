{
 "cells": [
  {
   "cell_type": "markdown",
   "metadata": {},
   "source": [
    "# Übung 8\n",
    "Mit folgenden Quell-Code-Zeilen lassen sich die Dateipfade eines Ordners in eine Liste speichern: "
   ]
  },
  {
   "cell_type": "code",
   "execution_count": null,
   "metadata": {},
   "outputs": [],
   "source": [
    "# Einbinden einer Bibliothek (hier: os), welche vordefinierte Funktionen beinhaltet.\n",
    "import os\n",
    "# Definition einer eigenen Funktion\n",
    "def file_list(path='.'):\n",
    "    files = []\n",
    "    for filename in os.listdir(path):\n",
    "        if os.path.isfile(os.path.join(path, filename)):\n",
    "            files.append(os.path.join(path,filename))            \n",
    "        else:\n",
    "            list_files(os.path.join(path, filename))\n",
    "    files.sort()\n",
    "    # Rückgabewert\n",
    "    return files\n",
    "\n",
    "# Anwenden der Funktion. In Dateipfade wird der Rückgabewert der Funktion \"gespeichert\"\n",
    "datei_pfade = file_list('./data/nl/')\n",
    "#Ausgabe\n",
    "print ('Dateipfade:')\n",
    "print(datei_pfade)"
   ]
  },
  {
   "cell_type": "markdown",
   "metadata": {},
   "source": [
    "Mit folgendem Quell-Code lässt sich eine Textdatei in zeilenweise in eine Liste laden:"
   ]
  },
  {
   "cell_type": "code",
   "execution_count": null,
   "metadata": {},
   "outputs": [],
   "source": [
    "# Pfad zum ersten Abenteuer\n",
    "abenteuer_datei_pfad = datei_pfade[0]\n",
    "# Datei zum Lesen öffnen ('r'-Flag)\n",
    "datei = open(abenteuer_datei_pfad, 'r')\n",
    "# Einzelne Zeilen der Datei in eine Liste speichern\n",
    "text_zeilen = datei.readlines()\n",
    "# Bereinigung: Zeilenumruch ('\\n') vom Zeilenende löschen\n",
    "for zeilen_nummer, zeile in enumerate(text_zeilen):\n",
    "    text_zeilen[zeilen_nummer] = text_zeilen[zeilen_nummer].strip()\n",
    "print(text_zeilen)"
   ]
  },
  {
   "cell_type": "markdown",
   "metadata": {},
   "source": [
    "**Aufgabe 1**: Laden Sie alle Text-Dateien in ein Array, so dass jedes Element des Arrays eine Liste der einzelnen Verse darstellt."
   ]
  },
  {
   "cell_type": "code",
   "execution_count": null,
   "metadata": {},
   "outputs": [],
   "source": [
    "# Aufgabe 1\n"
   ]
  },
  {
   "cell_type": "markdown",
   "metadata": {},
   "source": [
    "**Aufgabe 2**: Zählen Sie das Vorkommen der Namen: Siegfried, Kriemhild, Brunhild!"
   ]
  },
  {
   "cell_type": "code",
   "execution_count": null,
   "metadata": {},
   "outputs": [],
   "source": [
    "# Aufgabe 2\n"
   ]
  },
  {
   "cell_type": "markdown",
   "metadata": {},
   "source": [
    "**Aufgabe 3:** Geben Sie alle Verse aus in denen *Siegfried* und *Kriemhild* vorkommen!"
   ]
  },
  {
   "cell_type": "code",
   "execution_count": null,
   "metadata": {},
   "outputs": [],
   "source": [
    "# Aufgabe 3\n"
   ]
  },
  {
   "cell_type": "markdown",
   "metadata": {},
   "source": [
    "**Aufgabe 4:** Wie oft kommt der Name *Siegfried* pro Abenteuer vor?"
   ]
  },
  {
   "cell_type": "code",
   "execution_count": null,
   "metadata": {},
   "outputs": [],
   "source": [
    "# Aufgabe 4\n"
   ]
  }
 ],
 "metadata": {
  "kernelspec": {
   "display_name": "Python 3",
   "language": "python",
   "name": "python3"
  },
  "language_info": {
   "codemirror_mode": {
    "name": "ipython",
    "version": 3
   },
   "file_extension": ".py",
   "mimetype": "text/x-python",
   "name": "python",
   "nbconvert_exporter": "python",
   "pygments_lexer": "ipython3",
   "version": "3.7.0"
  }
 },
 "nbformat": 4,
 "nbformat_minor": 2
}
