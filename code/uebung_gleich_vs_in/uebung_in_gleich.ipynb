{
 "cells": [
  {
   "cell_type": "markdown",
   "metadata": {},
   "source": [
    "# Übung zu in-/==-Operatoren\n",
    "Lösen Sie alle Fragen, indem Sie mit Python Routinen programmieren, welche Ihnen die Lösung ausgibt. Für alle Ausgaben nutzen Sie bitte die *print*-Funktionen."
   ]
  },
  {
   "cell_type": "code",
   "execution_count": 1,
   "metadata": {},
   "outputs": [],
   "source": [
    "liste1 = ['Hallo Welt', 'Hallo Olli', 'Hallo Jeniffer', 'Hallo Klausur']"
   ]
  },
  {
   "cell_type": "markdown",
   "metadata": {},
   "source": [
    "**Aufgabe 1.1:** Überprüfen Sie ob die Zeichenkette `'Hallo Jeniffer'` in der Liste ist!<br>\n",
    "**Aufgabe 1.2:** Überprüfen Sie ob die Sub-Zeichenkette `'Hallo'` in der Zeichenkette `'Hallo Jeniffer'` vorkommt!"
   ]
  },
  {
   "cell_type": "code",
   "execution_count": 15,
   "metadata": {},
   "outputs": [
    {
     "name": "stdout",
     "output_type": "stream",
     "text": [
      "JA\n",
      "JA\n"
     ]
    }
   ],
   "source": [
    "# Aufgabe 1\n",
    "gesuchter_text = 'Hallo Jeniffer'\n",
    "\n",
    "# Aufgabe 1.1\n",
    "if gesuchter_text in liste1:\n",
    "    print('JA')\n",
    "else:\n",
    "    print('NEIN')\n",
    "    \n",
    "# Aufgabe 1.2\n",
    "gesuchter_text = 'Hallo'\n",
    "zeichenkette = 'Hallo Jeniffer'\n",
    "if gesuchter_text in zeichenkette:\n",
    "    print('JA')\n",
    "else:\n",
    "    print('NEIN')"
   ]
  },
  {
   "cell_type": "markdown",
   "metadata": {},
   "source": [
    "**Aufgabe 2.1:** Überprüfen Sie ob genau die Zeichenkette `'Hallo'` ein Element in der Liste ist!<br>\n",
    "**Aufgabe 2.2:** Überprüfen Sie ob ein Element der Liste *liste1* die Zeichenkette `'Hallo'` beinhaltet! Nutzen Sie hierfür die *for*-Schleife.<br>\n",
    "**Aufgabe 2.3:** Falls ja, wie oft tritt die Zeichenkette `'Hallo'` in den Elementen der Liste auf?<br>"
   ]
  },
  {
   "cell_type": "code",
   "execution_count": 31,
   "metadata": {},
   "outputs": [
    {
     "name": "stdout",
     "output_type": "stream",
     "text": [
      "NEIN\n",
      "Ja\n",
      "Ja\n",
      "Ja\n",
      "Ja\n",
      "JA\n",
      "4 mal\n"
     ]
    }
   ],
   "source": [
    "# Aufgabe 2\n",
    "gesuchter_text = 'Hallo'\n",
    "# Aufgabe 2.1\n",
    "if gesuchter_text in liste1:\n",
    "    print('JA')\n",
    "else:\n",
    "    print('NEIN')\n",
    "# Aufgabe 2.2\n",
    "for element in liste1:\n",
    "    if gesuchter_text in element:\n",
    "        print('Ja')\n",
    "        \n",
    "# Variante 2:\n",
    "gesuchter_text_ist_in_einem_element = 'Nein'\n",
    "for element in liste1:\n",
    "    if gesuchter_text in element:\n",
    "        gesuchter_text_ist_in_einem_element = 'Ja'\n",
    "        \n",
    "if gesuchter_text_ist_in_einem_element == 'Ja':\n",
    "    print('JA')\n",
    "# Aufgabe 2.3 \n",
    "zaehler = 0\n",
    "for element in liste1:\n",
    "    if gesuchter_text in element:\n",
    "        zaehler = zaehler + 1\n",
    "        \n",
    "print (zaehler, 'mal')"
   ]
  },
  {
   "cell_type": "markdown",
   "metadata": {},
   "source": [
    "Folgende Code-Zeilen laden eine Textdatei ein. Jede Zeile der Textdatei wird jeweils als Zeichenkette in der Liste `text_zeilen` gespeichert:"
   ]
  },
  {
   "cell_type": "code",
   "execution_count": 32,
   "metadata": {},
   "outputs": [],
   "source": [
    "# unter Linux / MacOS:\n",
    "pfad_zur_textdatei = './data/nl/001.txt'\n",
    "# Öffnen der Date:\n",
    "datei = open(pfad_zur_textdatei, 'r')\n",
    "# Einzelne Zeilen der Datei in eine Liste speichern\n",
    "text_zeilen = datei.readlines()\n",
    "# Bereinigung: Zeilenumruch ('\\n') vom Zeilenende löschen\n",
    "for zeilen_nummer, zeile in enumerate(text_zeilen):\n",
    "    text_zeilen[zeilen_nummer] = text_zeilen[zeilen_nummer].strip()"
   ]
  },
  {
   "cell_type": "markdown",
   "metadata": {},
   "source": [
    "**Aufgabe 3.1:** In der Liste `text_zeilen` befinden sich die einzelnen Zeilen des Textdokumentes als Elemente. Prüfen Sie, ob die Textzeile `\"Die beiden Markgrafen | Gere und Eckewart,\"`in der Liste vorkommt.<br>\n",
    "**Aufgabe 3.2:** In welcher Zeilennummer tritt diese Zeile auf?"
   ]
  },
  {
   "cell_type": "code",
   "execution_count": 38,
   "metadata": {},
   "outputs": [
    {
     "name": "stdout",
     "output_type": "stream",
     "text": [
      "ja\n",
      "43\n",
      "94\n"
     ]
    }
   ],
   "source": [
    "# Aufgabe 3\n",
    "gesuchter_text = 'Die beiden Markgrafen | Gere und Eckewart,'\n",
    "\n",
    "if gesuchter_text in text_zeilen:\n",
    "    print('ja')\n",
    "\n",
    "zaehler = 0\n",
    "for zeile in text_zeilen:\n",
    "    zaehler = zaehler + 1 \n",
    "    if gesuchter_text == zeile:\n",
    "        print(zaehler)\n",
    "print(zaehler)"
   ]
  },
  {
   "cell_type": "markdown",
   "metadata": {},
   "source": [
    "**Aufgabe 4.1:** Wie oft tritt der Name `\"Kriemhild\"`in der Liste`text_zeilen`auf? Programmieren Sie die Lösung!<br>\n",
    "**Aufgabe 4.2:** Auf welchen Textzeilen tritt der Name `\"Kriemhild\"`in der Liste`text_zeilen`auf?"
   ]
  },
  {
   "cell_type": "code",
   "execution_count": 41,
   "metadata": {},
   "outputs": [
    {
     "name": "stdout",
     "output_type": "stream",
     "text": [
      "8\n",
      "61\n",
      "86\n",
      "3\n"
     ]
    }
   ],
   "source": [
    "gesuchter_text = 'Kriemhild'\n",
    "# Aufgabe 4.1 und Aufgabe 4.2\n",
    "zaehler_zeilen = 0\n",
    "zaehler_kriemhild = 0\n",
    "for element in text_zeilen:\n",
    "    zaehler_zeilen = zaehler_zeilen + 1\n",
    "    if gesuchter_text in element:\n",
    "        zaehler_kriemhild = zaehler_kriemhild + 1\n",
    "        print(zaehler_zeilen)\n",
    "print(zaehler_kriemhild)\n",
    "\n"
   ]
  },
  {
   "cell_type": "code",
   "execution_count": null,
   "metadata": {},
   "outputs": [],
   "source": []
  }
 ],
 "metadata": {
  "kernelspec": {
   "display_name": "Python 3",
   "language": "python",
   "name": "python3"
  },
  "language_info": {
   "codemirror_mode": {
    "name": "ipython",
    "version": 3
   },
   "file_extension": ".py",
   "mimetype": "text/x-python",
   "name": "python",
   "nbconvert_exporter": "python",
   "pygments_lexer": "ipython3",
   "version": "3.7.9"
  }
 },
 "nbformat": 4,
 "nbformat_minor": 2
}
