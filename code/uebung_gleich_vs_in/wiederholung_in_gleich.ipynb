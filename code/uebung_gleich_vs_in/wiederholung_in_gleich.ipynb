{
 "cells": [
  {
   "cell_type": "markdown",
   "metadata": {},
   "source": [
    "# Wiederholung (Schleifen und Bedingungen)"
   ]
  },
  {
   "cell_type": "markdown",
   "metadata": {},
   "source": [
    "Wenn wir in Listen suchen wollen, haben wir mehrere Möglichkeiten. Im Folgenden wollen wir mit dieser Liste arbeiten:"
   ]
  },
  {
   "cell_type": "code",
   "execution_count": 1,
   "metadata": {},
   "outputs": [],
   "source": [
    "liste1 = ['Hallo Welt', 'Hallo Olli', 'Hallo Jeniffer', 'Hallo Klausur']"
   ]
  },
  {
   "cell_type": "markdown",
   "metadata": {},
   "source": [
    "Wir wollen schauen ob die Zeichenkette `'Hallo Klausur'` in der Liste ist:"
   ]
  },
  {
   "cell_type": "code",
   "execution_count": 5,
   "metadata": {},
   "outputs": [
    {
     "name": "stdout",
     "output_type": "stream",
     "text": [
      "NEIN Hallo ist KEIN Element in liste1\n"
     ]
    }
   ],
   "source": [
    "gesuchter_text = 'Hallo Klausur'\n",
    "\n",
    "# Variante 1\n",
    "# Der in-Operator schaut in allen Elementen der Variable \"liste1\" ob \"gesuchter_text\" als Element vorhanden ist.\n",
    "# Die Bedingung trifft allerdings nur zu, wenn das Element GENAU wie \"gesuchter_text\" ist.\n",
    "if gesuchter_text in liste1:\n",
    "    print('JA',gesuchter_text, 'ist ein Element in liste1')\n",
    "else:\n",
    "    print('NEIN',gesuchter_text, 'ist KEIN Element in liste1')\n",
    "# 'JA' wird ausgegeben, da die Bedingung zutrifft: 'Hallo Klausur' ist ein Element von liste1\n",
    "    \n",
    "# Variante 2\n",
    "# Mit der for-Schleife können wir die Elemente EINZELN überprüfen, die sich in der Liste \"liste1\" befinden.\n",
    "# Hier müssen wir aber aufpassen, dass wir den Vergleich-Operator \"==\" verwenden,\n",
    "# da wir schauen wollen ob ein Element GENAU dem gesuchten Text entspricht:\n",
    "for element in liste1:\n",
    "    # Dieser Block wird nun so oft ausgefürt wie es Elemente in liste1 gibt\n",
    "    if element == gesuchter_text:\n",
    "        # Innerhalb der Schleife, wird dieser Block nur ausgefürt wenn das aktuelle \"element\" gleich \"gesuchter_text\" ist\n",
    "        print('JA',gesuchter_text, 'ist ein Element in liste1')"
   ]
  },
  {
   "cell_type": "markdown",
   "metadata": {},
   "source": [
    "Im folgenden wollen wir uns nun prüfen ob und wo der Name 'Olli' in der Liste vorkommt.<br><br>\n",
    "Als erstes versuchen wir mit dem in-Operator zu schauen ob der gesuchte Text als Element **in**  der Liste vorkommt: "
   ]
  },
  {
   "cell_type": "code",
   "execution_count": 6,
   "metadata": {},
   "outputs": [
    {
     "name": "stdout",
     "output_type": "stream",
     "text": [
      "Variante 1:\n",
      "NEIN, Olli ist KEIN Element in liste1\n"
     ]
    }
   ],
   "source": [
    "gesuchter_text = 'Olli'\n",
    "# Variante 1: (in-Operator)\n",
    "print('Variante 1:')\n",
    "# Die Bedingung trifft zu, wenn das Element GENAU wie \"gesuchter_text\" ist.\n",
    "# Da kein Element in liste1 wie gesuchter_text ist, gilt die Bedingung nicht und es wird 'NEIN' ausgegeben\n",
    "if gesuchter_text in liste1:\n",
    "    print('JA,',gesuchter_text, 'ist ein Element in liste1')\n",
    "else:\n",
    "    print('NEIN,',gesuchter_text, 'ist KEIN Element in liste1')"
   ]
  },
  {
   "cell_type": "markdown",
   "metadata": {},
   "source": [
    "Nun versuchen wir das gleiche mit dem ==-Operator:"
   ]
  },
  {
   "cell_type": "code",
   "execution_count": 7,
   "metadata": {},
   "outputs": [
    {
     "name": "stdout",
     "output_type": "stream",
     "text": [
      "Variante 2:\n",
      "NEIN, an 0 . Stelle in der Liste steht NICHT der gesuchte Text Olli ALS Element\n",
      "NEIN, an 1 . Stelle in der Liste steht NICHT der gesuchte Text Olli ALS Element\n",
      "NEIN, an 2 . Stelle in der Liste steht NICHT der gesuchte Text Olli ALS Element\n",
      "NEIN, an 3 . Stelle in der Liste steht NICHT der gesuchte Text Olli ALS Element\n"
     ]
    }
   ],
   "source": [
    "# Variante 2: (==-Operator)\n",
    "print('Variante 2:')\n",
    "# Wir nutzen ein Zaehl-Variable, um die innerhalb der Schleife die Elemente mitzuzählen.\n",
    "# zaehler hat immer den ganzzahligen Wert, welcher der Stelle des aktuellen Elements der Liste gleicht.\n",
    "# Wir dürfen allerdings nicht vergessen, zaehler am Ende eines Schleifen-Blockes um 1 zu erhöhen (imkrementieren).\n",
    "zaehler = 0\n",
    "# Die For-Schleife durchläuft jetzt den gesamten eingeschoben Block so oft, wie es Elemente in liste1 gibt:\n",
    "for element in liste1:\n",
    "    # Die if-Bedingung prüft ob das aktuelle Element GENAU gesuchter_text gleicht.\n",
    "    if element == gesuchter_text:\n",
    "        print('JA, an', zaehler,'. Stelle in der Liste steht der gesuchte Text', gesuchter_text,'ALS Element')\n",
    "    else:\n",
    "        print('NEIN, an', zaehler,'. Stelle in der Liste steht NICHT der gesuchte Text', gesuchter_text,'ALS Element')\n",
    "    # zaehler wird um 1 erhöht, damit wir beim nächsten Schleifendurchlauf ein um 1 erhöter Wert in zaehler steht.\n",
    "    zaehler = zaehler + 1 "
   ]
  },
  {
   "cell_type": "markdown",
   "metadata": {},
   "source": [
    "Da wir wissen, dass irgendwo in liste1 `Olli` als Sub-Zeichenkette vorkommt, müssen wir **im** Element der Liste selbst schauen. Daher wenden wir den in-Operator auf einzelne Elemente der Liste an."
   ]
  },
  {
   "cell_type": "code",
   "execution_count": 8,
   "metadata": {},
   "outputs": [
    {
     "name": "stdout",
     "output_type": "stream",
     "text": [
      "Variante 3:\n",
      "NEIN, an 0 . Stelle in der Liste steht NICHT der gesuchte Text Olli IM Element Hallo Welt\n",
      "JA, an 1 . Stelle in der Liste steht der gesuchte Text Olli IM Element Hallo Olli\n",
      "NEIN, an 2 . Stelle in der Liste steht NICHT der gesuchte Text Olli IM Element Hallo Jeniffer\n",
      "NEIN, an 3 . Stelle in der Liste steht NICHT der gesuchte Text Olli IM Element Hallo Klausur\n"
     ]
    }
   ],
   "source": [
    "# Variante 3: (in-Operator)\n",
    "print('Variante 3:')\n",
    "zaehler = 0\n",
    "# Die For-Schleife durchläuft jetzt den gesamten eingeschoben Block so oft, wie es Elemente in liste1 gibt:\n",
    "for element in liste1:\n",
    "    # In jedem einzelnen Element wird geprüft, ob gesuchter_text ein Bestandteil des jeweiligen Elementes ist.\n",
    "    if gesuchter_text in element:\n",
    "        print('JA, an', zaehler,'. Stelle in der Liste steht der gesuchte Text', gesuchter_text,'IM Element', element)\n",
    "    else:\n",
    "        print('NEIN, an', zaehler,'. Stelle in der Liste steht NICHT der gesuchte Text', gesuchter_text,'IM Element', element)\n",
    "    zaehler = zaehler + 1 "
   ]
  },
  {
   "cell_type": "code",
   "execution_count": 14,
   "metadata": {},
   "outputs": [
    {
     "name": "stdout",
     "output_type": "stream",
     "text": [
      "Die Variable ist:  Test\n",
      "Die Variable ist:  10\n"
     ]
    }
   ],
   "source": [
    "variable = 'Test'\n",
    "print('Die Variable ist: ', variable)\n",
    "variable = 10\n",
    "print('Die Variable ist: ', variable)"
   ]
  },
  {
   "cell_type": "code",
   "execution_count": null,
   "metadata": {},
   "outputs": [],
   "source": []
  }
 ],
 "metadata": {
  "kernelspec": {
   "display_name": "Python 3",
   "language": "python",
   "name": "python3"
  },
  "language_info": {
   "codemirror_mode": {
    "name": "ipython",
    "version": 3
   },
   "file_extension": ".py",
   "mimetype": "text/x-python",
   "name": "python",
   "nbconvert_exporter": "python",
   "pygments_lexer": "ipython3",
   "version": "3.7.3"
  }
 },
 "nbformat": 4,
 "nbformat_minor": 2
}
